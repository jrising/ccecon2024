{
 "cells": [
  {
   "cell_type": "markdown",
   "id": "f90051cd",
   "metadata": {},
   "source": [
    "Understanding GDDs & EDDs"
   ]
  },
  {
   "cell_type": "markdown",
   "id": "04866a6d",
   "metadata": {},
   "source": [
    "Version 1"
   ]
  },
  {
   "cell_type": "code",
   "execution_count": null,
   "id": "989e5321",
   "metadata": {},
   "outputs": [],
   "source": [
    "df = data.frame(tmean=0:30)"
   ]
  },
  {
   "cell_type": "code",
   "execution_count": null,
   "id": "1023eae9",
   "metadata": {},
   "outputs": [],
   "source": [
    "df$gdd = pmax(pmin(df$tmean - 10, 18), 0)"
   ]
  },
  {
   "cell_type": "code",
   "execution_count": null,
   "id": "8bfdf2f7",
   "metadata": {},
   "outputs": [],
   "source": [
    "df$edd = pmax(df$tmean - 28, 0)"
   ]
  },
  {
   "cell_type": "code",
   "execution_count": null,
   "id": "d79dbd57",
   "metadata": {},
   "outputs": [],
   "source": [
    "ggplot(df, aes(x=tmean)) + geom_line(aes(y=gdd)) + geom_line(aes(y=edd))"
   ]
  },
  {
   "cell_type": "code",
   "execution_count": null,
   "id": "829e4127",
   "metadata": {},
   "outputs": [],
   "source": [
    "df$yield = df$gdd - 10 * df$edd"
   ]
  },
  {
   "cell_type": "code",
   "execution_count": null,
   "id": "eb93c3a5",
   "metadata": {},
   "outputs": [],
   "source": [
    "plot(df$yield)"
   ]
  },
  {
   "cell_type": "code",
   "execution_count": null,
   "id": "bb6daa71",
   "metadata": {},
   "outputs": [],
   "source": [
    "summary(lm(yield ~ gdd + edd, data=df))"
   ]
  },
  {
   "cell_type": "markdown",
   "id": "a5d848e1",
   "metadata": {},
   "source": [
    "Version 2"
   ]
  },
  {
   "cell_type": "code",
   "execution_count": null,
   "id": "b4c0ae1d",
   "metadata": {},
   "outputs": [],
   "source": [
    "df = data.frame(time=seq(2000, 2020, by=1/365))"
   ]
  },
  {
   "cell_type": "code",
   "execution_count": null,
   "id": "cc405cf2",
   "metadata": {},
   "outputs": [],
   "source": [
    "df$year = floor(df$time)"
   ]
  },
  {
   "cell_type": "code",
   "execution_count": null,
   "id": "6de44e2c",
   "metadata": {},
   "outputs": [],
   "source": [
    "df$tmean = runif(nrow(df), 0, 30)"
   ]
  },
  {
   "cell_type": "code",
   "execution_count": null,
   "id": "f463df18",
   "metadata": {},
   "outputs": [],
   "source": [
    "head(df)"
   ]
  },
  {
   "cell_type": "code",
   "execution_count": null,
   "id": "ad0fa970",
   "metadata": {},
   "outputs": [],
   "source": [
    "df$gdd = pmax(pmin(df$tmean - 10, 18), 0)"
   ]
  },
  {
   "cell_type": "code",
   "execution_count": null,
   "id": "603ae0f2",
   "metadata": {},
   "outputs": [],
   "source": [
    "df$edd = pmax(df$tmean - 28, 0)"
   ]
  },
  {
   "cell_type": "code",
   "execution_count": null,
   "id": "ce265eaa",
   "metadata": {},
   "outputs": [],
   "source": [
    "df$dyield = df$gdd - 10 * df$edd"
   ]
  },
  {
   "cell_type": "code",
   "execution_count": null,
   "id": "b825979b",
   "metadata": {},
   "outputs": [],
   "source": [
    "df2 = df %>% group_by(year) %>% summarize(gdd = sum(gdd), edd = sum(edd), yield = sum(yield))"
   ]
  },
  {
   "cell_type": "code",
   "execution_count": null,
   "id": "d1665a24",
   "metadata": {},
   "outputs": [],
   "source": [
    "head(df2)"
   ]
  },
  {
   "cell_type": "code",
   "execution_count": null,
   "id": "fdac9bad",
   "metadata": {},
   "outputs": [],
   "source": [
    "summary(lm(yield ~ gdd + edd, data=df2))"
   ]
  },
  {
   "cell_type": "markdown",
   "id": "d7b54a8c",
   "metadata": {},
   "source": [
    "Version 3"
   ]
  },
  {
   "cell_type": "code",
   "execution_count": null,
   "id": "c3b7f94c",
   "metadata": {},
   "outputs": [],
   "source": [
    "df$trange = runif(nrow(df), 0, 5)"
   ]
  },
  {
   "cell_type": "code",
   "execution_count": null,
   "id": "e1675760",
   "metadata": {},
   "outputs": [],
   "source": [
    "df$tmin = df$tmean - df$trange\n",
    "df$tmax = df$tmean + df$trange"
   ]
  },
  {
   "cell_type": "code",
   "execution_count": null,
   "id": "cd997db1",
   "metadata": {},
   "outputs": [],
   "source": [
    "df$above10frac = pmin(1, pmax(0, (df$tmax - 10) / (df$tmax - df$tmin)))"
   ]
  },
  {
   "cell_type": "code",
   "execution_count": null,
   "id": "597affee",
   "metadata": {
    "scrolled": true
   },
   "outputs": [],
   "source": [
    "head(df)"
   ]
  },
  {
   "cell_type": "code",
   "execution_count": null,
   "id": "1e3681aa",
   "metadata": {},
   "outputs": [],
   "source": [
    "df$above28frac = pmin(1, pmax(0, (df$tmax - 28) / (df$tmax - df$tmin)))"
   ]
  },
  {
   "cell_type": "code",
   "execution_count": null,
   "id": "1ac95d11",
   "metadata": {},
   "outputs": [],
   "source": [
    "df$above10full = pmax(0, df$tmin - 10)\n",
    "df$above28full = pmax(0, df$tmin - 28)"
   ]
  },
  {
   "cell_type": "code",
   "execution_count": null,
   "id": "1ae31c9d",
   "metadata": {},
   "outputs": [],
   "source": [
    "df$above10dd = df$above10full + df$trange * df$above10^2\n",
    "df$above28dd = df$above28full + df$trange * df$above28^2"
   ]
  },
  {
   "cell_type": "code",
   "execution_count": null,
   "id": "1eafaafe",
   "metadata": {},
   "outputs": [],
   "source": [
    "df$gdd = df$above10dd - df$above28dd\n",
    "df$edd = df$above28dd"
   ]
  },
  {
   "cell_type": "code",
   "execution_count": null,
   "id": "1baabc3a",
   "metadata": {},
   "outputs": [],
   "source": [
    "head(df)"
   ]
  },
  {
   "cell_type": "code",
   "execution_count": null,
   "id": "d05f400d",
   "metadata": {},
   "outputs": [],
   "source": [
    "df$dyield = df$gdd - 10 * df$edd"
   ]
  },
  {
   "cell_type": "markdown",
   "id": "9d59b98e",
   "metadata": {},
   "source": [
    "Some econometrics"
   ]
  },
  {
   "cell_type": "markdown",
   "id": "b5397353",
   "metadata": {},
   "source": []
  },
  {
   "cell_type": "code",
   "execution_count": null,
   "id": "339ab17d",
   "metadata": {},
   "outputs": [],
   "source": []
  },
  {
   "cell_type": "code",
   "execution_count": null,
   "id": "ef25c50e",
   "metadata": {},
   "outputs": [],
   "source": [
    "load(\"brazil-coffee.RData\")"
   ]
  },
  {
   "cell_type": "code",
   "execution_count": null,
   "id": "0a77e192",
   "metadata": {},
   "outputs": [],
   "source": [
    "head(df)"
   ]
  },
  {
   "cell_type": "code",
   "execution_count": null,
   "id": "81c4ebff",
   "metadata": {},
   "outputs": [],
   "source": [
    "plot(df$longitude, df$latitude)"
   ]
  },
  {
   "cell_type": "code",
   "execution_count": null,
   "id": "c915c075",
   "metadata": {},
   "outputs": [],
   "source": [
    "library(tidyverse)"
   ]
  },
  {
   "cell_type": "code",
   "execution_count": null,
   "id": "7c1ae983",
   "metadata": {},
   "outputs": [],
   "source": [
    "df %>% group_by(region) %>% summarize(produced=sum(produced)) %>% arrange(-produced)"
   ]
  },
  {
   "cell_type": "code",
   "execution_count": null,
   "id": "0a22aa24",
   "metadata": {},
   "outputs": [],
   "source": [
    "ggplot(subset(df, region == \"Patrocínio (MG)\"), aes(x=year, y=produced)) + geom_line()"
   ]
  },
  {
   "cell_type": "code",
   "execution_count": null,
   "id": "3992c4dd",
   "metadata": {},
   "outputs": [],
   "source": [
    "ggplot(subset(df, region == \"Patrocínio (MG)\"), aes(x=year, y=yield)) + geom_line()"
   ]
  },
  {
   "cell_type": "code",
   "execution_count": null,
   "id": "6f426df7",
   "metadata": {},
   "outputs": [],
   "source": [
    "names(df)"
   ]
  },
  {
   "cell_type": "code",
   "execution_count": null,
   "id": "a618da07",
   "metadata": {},
   "outputs": [],
   "source": [
    "df$tmax = df$tmax01 + df$tmax02 + df$tmax03 + df$tmax04 + df$tmax05 + df$tmax06 + \n",
    "    df$tmax07 + df$tmax08 + df$tmax09 + df$tmax10 + df$tmax11 + df$tmax12"
   ]
  },
  {
   "cell_type": "code",
   "execution_count": null,
   "id": "682059f1",
   "metadata": {},
   "outputs": [],
   "source": [
    "df$tmin = df$tmin01 + df$tmin02 + df$tmin03 + df$tmin04 + df$tmin05 + df$tmin06 + \n",
    "    df$tmin07 + df$tmin08 + df$tmin09 + df$tmin10 + df$tmin11 + df$tmin12"
   ]
  },
  {
   "cell_type": "code",
   "execution_count": null,
   "id": "a133fd39",
   "metadata": {},
   "outputs": [],
   "source": [
    "ggplot(subset(df, region == \"Patrocínio (MG)\"), aes(x=year, y=tmax)) + geom_line()"
   ]
  },
  {
   "cell_type": "code",
   "execution_count": null,
   "id": "64303ded",
   "metadata": {},
   "outputs": [],
   "source": [
    "ggplot(subset(df, region == \"Patrocínio (MG)\"), aes(x=year, y=tmin)) + geom_line()"
   ]
  },
  {
   "cell_type": "code",
   "execution_count": null,
   "id": "5af2d5a4",
   "metadata": {},
   "outputs": [],
   "source": [
    "library(lfe)"
   ]
  },
  {
   "cell_type": "code",
   "execution_count": null,
   "id": "43e63241",
   "metadata": {},
   "outputs": [],
   "source": [
    "summary(felm(log(yield) ~ tmin + tmax | region, data=df))"
   ]
  },
  {
   "cell_type": "code",
   "execution_count": null,
   "id": "68a1cec4",
   "metadata": {},
   "outputs": [],
   "source": []
  }
 ],
 "metadata": {
  "kernelspec": {
   "display_name": "R",
   "language": "R",
   "name": "ir"
  },
  "language_info": {
   "codemirror_mode": "r",
   "file_extension": ".r",
   "mimetype": "text/x-r-source",
   "name": "R",
   "pygments_lexer": "r",
   "version": "4.1.1"
  }
 },
 "nbformat": 4,
 "nbformat_minor": 5
}
