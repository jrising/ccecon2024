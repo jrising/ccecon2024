{
 "cells": [
  {
   "cell_type": "markdown",
   "id": "b055fb54",
   "metadata": {},
   "source": [
    "# 1. Plotting (2)"
   ]
  },
  {
   "cell_type": "code",
   "execution_count": null,
   "id": "bd99f243",
   "metadata": {},
   "outputs": [],
   "source": [
    "install.packages(\"tidyverse\")"
   ]
  },
  {
   "cell_type": "code",
   "execution_count": null,
   "id": "7d312fe5",
   "metadata": {},
   "outputs": [],
   "source": [
    "library(tidyverse)"
   ]
  },
  {
   "cell_type": "markdown",
   "id": "e8349226",
   "metadata": {},
   "source": [
    "We're going to use a lot of `ggplot2`.\n",
    "\n",
    "https://nyu-cdsc.github.io/learningr/assets/data-visualization-2.1.pdf"
   ]
  },
  {
   "cell_type": "markdown",
   "id": "70321b77",
   "metadata": {},
   "source": [
    "# 2. Collect species data\n",
    "\n",
    "Choose one of the following species:\n",
    "\n",
    " - Etmopterus spinax (Velvet belly)\n",
    " - Decapterus macarellus (Mackerel scad)\n",
    " - Katsuwonus pelamis (Skipjack tuna)\n",
    " - Sphyrna lewini (Scalloped hammerhead)\n",
    " - Alopias pelagicus (Pelagic thresher)\n",
    " - Auxis rochei (Bullet tuna)\n",
    " - Chascanopsetta lugubris (Pelican flounder)\n",
    " \n",
    "1. Go to `https://aquamaps.org/`.\n",
    "2. Search for the species.\n",
    "3. Click `Show mapping parameters`.\n",
    "4. Click `Download data`.\n",
    "5. Choose `Occurrence Cells` and click `Submit`.\n",
    "6. Click `Download` and save it somewhere convenient."
   ]
  },
  {
   "cell_type": "code",
   "execution_count": null,
   "id": "5978c192",
   "metadata": {
    "scrolled": false
   },
   "outputs": [],
   "source": [
    "df = read.csv(\"bluecrab.csv\")"
   ]
  },
  {
   "cell_type": "code",
   "execution_count": null,
   "id": "ac736b0e",
   "metadata": {},
   "outputs": [],
   "source": [
    "df = read.csv(\"bluecrab2.csv\")"
   ]
  },
  {
   "cell_type": "code",
   "execution_count": null,
   "id": "99e77f17",
   "metadata": {},
   "outputs": [],
   "source": [
    "df = read.csv(\"bluecrab2.csv\", fileEncoding='latin1')"
   ]
  },
  {
   "cell_type": "code",
   "execution_count": null,
   "id": "ec94e3df",
   "metadata": {},
   "outputs": [],
   "source": [
    "df"
   ]
  },
  {
   "cell_type": "markdown",
   "id": "9e9f54b6",
   "metadata": {},
   "source": [
    "Let's plot these observations"
   ]
  },
  {
   "cell_type": "code",
   "execution_count": null,
   "id": "dbc349e4",
   "metadata": {
    "scrolled": true
   },
   "outputs": [],
   "source": [
    "ggplot(df, aes(x=Center.Long, y=Center.Lat)) +\n",
    "geom_point()"
   ]
  },
  {
   "cell_type": "code",
   "execution_count": null,
   "id": "cdb51f4b",
   "metadata": {
    "scrolled": true
   },
   "outputs": [],
   "source": [
    "ggplot(df, aes(x=Center.Long, y=Center.Lat)) +\n",
    "geom_point(aes(colour=Surface.Water.Temp....C.))"
   ]
  },
  {
   "cell_type": "code",
   "execution_count": null,
   "id": "6094e930",
   "metadata": {
    "scrolled": true
   },
   "outputs": [],
   "source": [
    "ggplot(df, aes(x=Depth..m., y=Surface.Water.Temp....C.)) + geom_point()"
   ]
  },
  {
   "cell_type": "code",
   "execution_count": null,
   "id": "4165d02b",
   "metadata": {},
   "outputs": [],
   "source": [
    "ggplot(df, aes(x=Surface.Water.Temp....C., y=Bottom.Water.Temp....C.)) + geom_point()"
   ]
  },
  {
   "cell_type": "code",
   "execution_count": null,
   "id": "17f4ce95",
   "metadata": {},
   "outputs": [],
   "source": [
    "ggplot(df, aes(x=Surface.Water.Temp....C., y=Bottom.Water.Temp....C., colour=log(Depth..m.))) + geom_point()"
   ]
  },
  {
   "cell_type": "markdown",
   "id": "e4436c5d",
   "metadata": {},
   "source": [
    "What do you observe about your data?"
   ]
  },
  {
   "cell_type": "markdown",
   "id": "55943524",
   "metadata": {},
   "source": [
    "# 3. Construct suitability function"
   ]
  },
  {
   "cell_type": "markdown",
   "id": "114df1ba",
   "metadata": {},
   "source": [
    "First, just some histograms"
   ]
  },
  {
   "cell_type": "code",
   "execution_count": null,
   "id": "66ed076f",
   "metadata": {
    "scrolled": true
   },
   "outputs": [],
   "source": [
    "ggplot(df, aes(x=Depth..m.)) + geom_histogram()"
   ]
  },
  {
   "cell_type": "code",
   "execution_count": null,
   "id": "f5fba8dd",
   "metadata": {},
   "outputs": [],
   "source": [
    "ggplot(df, aes(x=log(Depth..m.))) + geom_histogram()"
   ]
  },
  {
   "cell_type": "code",
   "execution_count": null,
   "id": "7910c39c",
   "metadata": {
    "scrolled": true
   },
   "outputs": [],
   "source": [
    "ggplot(df, aes(x=Surface.Water.Temp....C.)) + geom_histogram()"
   ]
  },
  {
   "cell_type": "markdown",
   "id": "0aa7ea45",
   "metadata": {},
   "source": [
    "What distribution fits your data?"
   ]
  },
  {
   "cell_type": "markdown",
   "id": "f45e7842",
   "metadata": {},
   "source": [
    "Let's try a couple triangular distributions."
   ]
  },
  {
   "cell_type": "code",
   "execution_count": null,
   "id": "66a7227b",
   "metadata": {
    "scrolled": true
   },
   "outputs": [],
   "source": [
    "pdf = data.frame(xx=c(min(log(df$Depth..m.)), median(log(df$Depth..m.)), max(log(df$Depth..m.))),\n",
    "                 yy=c(0, 30, 0))\n",
    "\n",
    "ggplot(df, aes(x=log(Depth..m.))) + \n",
    "geom_line(data=pdf, aes(x=xx, y=yy)) +\n",
    "geom_histogram()"
   ]
  },
  {
   "cell_type": "code",
   "execution_count": null,
   "id": "d211a915",
   "metadata": {},
   "outputs": [],
   "source": [
    "pdf = data.frame(xx=c(min(df$Surface.Water.Temp....C.), median(df$Surface.Water.Temp....C.), max(df$Surface.Water.Temp....C.)),\n",
    "                 yy=c(0, 30, 0))\n",
    "\n",
    "ggplot(df, aes(x=Surface.Water.Temp....C.)) + \n",
    "geom_line(data=pdf, aes(x=xx, y=yy)) +\n",
    "geom_histogram()"
   ]
  },
  {
   "cell_type": "markdown",
   "id": "2c13bedf",
   "metadata": {},
   "source": [
    "What happens when we combine these?"
   ]
  },
  {
   "cell_type": "code",
   "execution_count": null,
   "id": "40001c08",
   "metadata": {},
   "outputs": [],
   "source": [
    "library(EnvStats)\n",
    "df$tempscore = dtri(df$Surface.Water.Temp....C., min(df$Surface.Water.Temp....C.), max(df$Surface.Water.Temp....C.), median(df$Surface.Water.Temp....C.))\n",
    "df$depthscore = dtri(log(df$Depth..m.), min(log(df$Depth..m.)), max(log(df$Depth..m.)), median(log(df$Depth..m.)))"
   ]
  },
  {
   "cell_type": "code",
   "execution_count": null,
   "id": "e1ea4813",
   "metadata": {
    "scrolled": true
   },
   "outputs": [],
   "source": [
    "ggplot(df, aes(x=log(Depth..m.))) +\n",
    "geom_histogram() + \n",
    "geom_point(aes(y=1000 * tempscore * depthscore))"
   ]
  },
  {
   "cell_type": "code",
   "execution_count": null,
   "id": "e578c2e8",
   "metadata": {},
   "outputs": [],
   "source": [
    "ggplot(df, aes(x=Surface.Water.Temp....C.)) +\n",
    "geom_histogram() + \n",
    "geom_point(aes(y=1000 * tempscore * depthscore))"
   ]
  },
  {
   "cell_type": "markdown",
   "id": "0001a5cc",
   "metadata": {},
   "source": [
    "# 3. Project over space and time"
   ]
  },
  {
   "cell_type": "code",
   "execution_count": null,
   "id": "cd62105b",
   "metadata": {},
   "outputs": [],
   "source": [
    "df2 = read.delim(\"HCAF_v6/hcaf_v6.tsv\", sep='\\t')"
   ]
  },
  {
   "cell_type": "code",
   "execution_count": null,
   "id": "34c4235d",
   "metadata": {},
   "outputs": [],
   "source": [
    "head(df2)"
   ]
  },
  {
   "cell_type": "code",
   "execution_count": null,
   "id": "79ec940c",
   "metadata": {},
   "outputs": [],
   "source": [
    "names(df2)"
   ]
  },
  {
   "cell_type": "markdown",
   "id": "a3dcbc46",
   "metadata": {},
   "source": [
    "How can you construct these envelope scores?"
   ]
  },
  {
   "cell_type": "markdown",
   "id": "22860bd8",
   "metadata": {},
   "source": [
    "What do they look like, individually?"
   ]
  },
  {
   "cell_type": "markdown",
   "id": "1a3da77b",
   "metadata": {},
   "source": [
    "What do they look like, combined?"
   ]
  },
  {
   "cell_type": "markdown",
   "id": "9399d049",
   "metadata": {},
   "source": [
    "What do they look like, combined in the future?"
   ]
  },
  {
   "cell_type": "markdown",
   "id": "fae6e98f",
   "metadata": {},
   "source": [
    "What are the differences?"
   ]
  }
 ],
 "metadata": {
  "kernelspec": {
   "display_name": "R",
   "language": "R",
   "name": "ir"
  },
  "language_info": {
   "codemirror_mode": "r",
   "file_extension": ".r",
   "mimetype": "text/x-r-source",
   "name": "R",
   "pygments_lexer": "r",
   "version": "4.1.1"
  }
 },
 "nbformat": 4,
 "nbformat_minor": 5
}
