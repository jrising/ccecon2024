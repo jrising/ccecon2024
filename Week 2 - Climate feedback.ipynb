{
 "cells": [
  {
   "cell_type": "markdown",
   "id": "b0d1b578",
   "metadata": {},
   "source": [
    "When there is an increase in downward radiation, surface temperatures change. This is expressed by\n",
    "$$\\Delta T = \\lambda\\, \\Delta F$$\n",
    "where $\\Delta T$ is the change in surface temperature, $\\Delta F$ is the change in downward radiation, called the radiative forcing, and $\\lambda$ is some proportionality constant."
   ]
  },
  {
   "cell_type": "markdown",
   "id": "531654f5",
   "metadata": {},
   "source": [
    "However, since a change in surface temperature will result in further radiative forcing. Let's model this:\n",
    "\n",
    "Step 1. Initial change in forcing increases temperature:\n",
    "$$\\Delta T_0 = \\lambda\\, \\Delta F_0$$\n",
    "\n",
    "Step 2. Change in temperature causes additional forcing:\n",
    "$$\\Delta F_1 = C\\, \\Delta T_0$$\n",
    "\n",
    "Step 3. Repeat steps 1 and 2 as follows:\n",
    "$$\\Delta T_i = \\lambda\\, \\Delta F_i$$\n",
    "$$\\Delta F_{i+1} = C\\, \\Delta T_i$$\n",
    "until $\\Delta T_i$ goes to 0."
   ]
  },
  {
   "cell_type": "markdown",
   "id": "46b93141",
   "metadata": {},
   "source": [
    "Now let's parameterize this:"
   ]
  },
  {
   "cell_type": "markdown",
   "id": "30508f20",
   "metadata": {},
   "source": [
    "\"In the absence of feedback processes, climate models show λ ≡ λ0 = 0.30 to 0.31 [K/(W/m2)] (where λ0 is the reference climate sensitivity) (16), giving an equilibrium increase ΔT0 ≈ 1.2°C in response to sustained 2 × CO2.\" (Roe & Baker 2007)"
   ]
  },
  {
   "cell_type": "markdown",
   "id": "388eacce",
   "metadata": {},
   "source": [
    "\"For the purposes of illustration, a normal distribution in hf(f) is shown with a mean of 0.65 and a SD of 0.13, typical to that obtained from feedback studies of GCMs (17, 18).\" (Roe & Baker 2007)"
   ]
  },
  {
   "cell_type": "code",
   "execution_count": null,
   "id": "bca8b50b",
   "metadata": {},
   "outputs": [],
   "source": [
    "lambda = 0.30 # K/(W/m^2)\n",
    "CC = 0.65 / lambda # this comes from f = lambda C\n",
    "dF0 = 1.2 / lambda # W/m^2"
   ]
  },
  {
   "cell_type": "code",
   "execution_count": null,
   "id": "4f25dc0d",
   "metadata": {},
   "outputs": [],
   "source": [
    "results = data.frame(tt=0, dF=dF0, dT=lambda * dF0)\n",
    "for (tt in 1:100) {\n",
    "    dF = CC * results$dT[nrow(results)]\n",
    "    results = rbind(results, data.frame(tt, dF, dT=lambda * dF))\n",
    "}"
   ]
  },
  {
   "cell_type": "code",
   "execution_count": null,
   "id": "2c8af584",
   "metadata": {},
   "outputs": [],
   "source": [
    "results"
   ]
  },
  {
   "cell_type": "code",
   "execution_count": null,
   "id": "62cda7d7",
   "metadata": {
    "scrolled": true
   },
   "outputs": [],
   "source": [
    "plot(cumsum(results$dT))"
   ]
  },
  {
   "cell_type": "markdown",
   "id": "0a631126",
   "metadata": {},
   "source": [
    "Now, let's do some Monte Carlo runs:"
   ]
  },
  {
   "cell_type": "code",
   "execution_count": null,
   "id": "fe53d4db",
   "metadata": {},
   "outputs": [],
   "source": [
    "results = data.frame()\n",
    "for (ii in 1:1000) {\n",
    "    ff = rnorm(1, .65, .13)\n",
    "    CC = ff / lambda # this comes from f = lambda C\n",
    "\n",
    "    dT = lambda * dF0\n",
    "    DeltaT = dT\n",
    "    for (tt in 1:100) {\n",
    "        dF = CC * dT\n",
    "        dT = lambda * dF\n",
    "        DeltaT = DeltaT + dT\n",
    "    }\n",
    "    \n",
    "    results = rbind(results, data.frame(ff, DeltaT))\n",
    "}"
   ]
  },
  {
   "cell_type": "code",
   "execution_count": null,
   "id": "33383da5",
   "metadata": {},
   "outputs": [],
   "source": [
    "hist(results$ff)"
   ]
  },
  {
   "cell_type": "code",
   "execution_count": null,
   "id": "df2ffb3e",
   "metadata": {
    "scrolled": true
   },
   "outputs": [],
   "source": [
    "hist(results$DeltaT)"
   ]
  },
  {
   "cell_type": "code",
   "execution_count": null,
   "id": "37db6e8f",
   "metadata": {},
   "outputs": [],
   "source": [
    "hist(results$DeltaT[results$DeltaT < 10])"
   ]
  }
 ],
 "metadata": {
  "kernelspec": {
   "display_name": "R",
   "language": "R",
   "name": "ir"
  },
  "language_info": {
   "codemirror_mode": "r",
   "file_extension": ".r",
   "mimetype": "text/x-r-source",
   "name": "R",
   "pygments_lexer": "r",
   "version": "4.1.1"
  }
 },
 "nbformat": 4,
 "nbformat_minor": 5
}
