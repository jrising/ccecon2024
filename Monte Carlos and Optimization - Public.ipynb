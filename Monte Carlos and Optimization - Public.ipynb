{
 "cells": [
  {
   "cell_type": "markdown",
   "id": "7d539151",
   "metadata": {},
   "source": [
    "Note: Lab 5 now due Friday.\n",
    " - I refer to a `consleft` variable in the lab. That should be `conslost`.\n",
    " - Your NPV values should be on the order of -25, not -83.\n",
    " \n",
    "Lab 6 due in 2 Fridays. Fairly short lab.\n",
    "\n",
    "First: Nate's presentation"
   ]
  },
  {
   "cell_type": "markdown",
   "id": "9febe350",
   "metadata": {},
   "source": [
    "# Introduction\n",
    "\n",
    "Generally, we have a lot of uncertainty about parameters (e.g., climate sensitivity), and we want to know how uncertainty in inputs propogates to uncertainty in results. Monte Carlo simulations are just many runs of a model with each parameters drawn from a distribution describing its uncertainty.\n",
    "\n",
    "This is frequently used for studying climate hazards and impact analysis, and less frequently to understand uncertainty in mitigation (energy models).\n",
    "\n",
    "As economists, we are also frequently interested in optimzation. This can be used for policy design (how should carbon prices be set?), as a mechanism to model human decision-making (how do people decide between adaptation and migration?), or to show other fields that they're doing things wrong (how suboptimal are current insurance programs?).\n",
    "\n",
    "These naturally intersect for optimization under uncertainty, a classic but oddly under-studied problem in climate change."
   ]
  },
  {
   "cell_type": "markdown",
   "id": "dd445406",
   "metadata": {},
   "source": [
    "# Monte Carlo simulations\n",
    "\n",
    "It is related to bootstrap statistical tests and computational Bayesian model fitting.\n",
    "\n",
    "We will use simple random sampling. More advanced treatment might use Latin Hypercube Sampling.\n",
    "\n",
    "The basic setup is\n",
    "$$y = f(\\vec{x}, \\vec{\\beta})$$"
   ]
  },
  {
   "cell_type": "code",
   "execution_count": null,
   "id": "5a1c9164",
   "metadata": {},
   "outputs": [],
   "source": [
    "beta = rnorm(1000, 0, 1)"
   ]
  },
  {
   "cell_type": "markdown",
   "id": "80912f13",
   "metadata": {},
   "source": [
    "Very simple Monte Carlo simulation: let $$y = beta^2$$"
   ]
  },
  {
   "cell_type": "code",
   "execution_count": null,
   "id": "24de17a3",
   "metadata": {},
   "outputs": [],
   "source": [
    "yy = beta^2"
   ]
  },
  {
   "cell_type": "markdown",
   "id": "b0d1b578",
   "metadata": {},
   "source": [
    "When there is an increase in downward radiation, surface temperatures change. This is expressed by\n",
    "$$\\Delta T = \\lambda\\, \\Delta F$$\n",
    "where $\\Delta T$ is the change in surface temperature, $\\Delta F$ is the change in downward radiation, called the radiative forcing, and $\\lambda$ is some proportionality constant."
   ]
  },
  {
   "cell_type": "markdown",
   "id": "531654f5",
   "metadata": {},
   "source": [
    "However, since a change in surface temperature will result in further radiative forcing. Let's model this:\n",
    "\n",
    "Step 1. Initial change in forcing increases temperature:\n",
    "$$\\Delta T_0 = \\lambda\\, \\Delta F_0$$\n",
    "\n",
    "Step 2. Change in temperature causes additional forcing:\n",
    "$$\\Delta F_1 = C\\, \\Delta T_0$$\n",
    "\n",
    "Step 3. Repeat steps 1 and 2 as follows:\n",
    "$$\\Delta T_i = \\lambda\\, \\Delta F_i$$\n",
    "$$\\Delta F_{i+1} = C\\, \\Delta T_i$$\n",
    "until $\\Delta T_i$ goes to 0."
   ]
  },
  {
   "cell_type": "markdown",
   "id": "02d8c600",
   "metadata": {},
   "source": [
    "Now let's parameterize this:"
   ]
  },
  {
   "cell_type": "markdown",
   "id": "0aed4edc",
   "metadata": {},
   "source": [
    "\"In the absence of feedback processes, climate models show λ ≡ λ0 = 0.30 to 0.31 [K/(W/m2)] (where λ0 is the reference climate sensitivity) (16), giving an equilibrium increase ΔT0 ≈ 1.2°C in response to sustained 2 × CO2.\" (Roe & Baker 2007)"
   ]
  },
  {
   "cell_type": "markdown",
   "id": "b8392342",
   "metadata": {},
   "source": [
    "\"For the purposes of illustration, a normal distribution in hf(f) is shown with a mean of 0.65 and a SD of 0.13, typical to that obtained from feedback studies of GCMs (17, 18).\" (Roe & Baker 2007)"
   ]
  },
  {
   "cell_type": "code",
   "execution_count": null,
   "id": "bca8b50b",
   "metadata": {},
   "outputs": [],
   "source": [
    "lambda = 0.30 # K/(W/m^2)\n",
    "CC = 0.65 / lambda # this comes from f = lambda C\n",
    "dF0 = 1.2 / lambda # W/m^2"
   ]
  },
  {
   "cell_type": "code",
   "execution_count": null,
   "id": "4f25dc0d",
   "metadata": {},
   "outputs": [],
   "source": [
    "results = data.frame(tt=0, dF=dF0, dT=lambda * dF0)\n",
    "for (tt in 1:100) {\n",
    "    dF = CC * results$dT[nrow(results)]\n",
    "    results = rbind(results, data.frame(tt, dF, dT=lambda * dF))\n",
    "}"
   ]
  },
  {
   "cell_type": "code",
   "execution_count": null,
   "id": "2c8af584",
   "metadata": {},
   "outputs": [],
   "source": [
    "results"
   ]
  },
  {
   "cell_type": "code",
   "execution_count": null,
   "id": "1dca5526",
   "metadata": {},
   "outputs": [],
   "source": [
    "sum(results$dT)"
   ]
  },
  {
   "cell_type": "code",
   "execution_count": null,
   "id": "62cda7d7",
   "metadata": {
    "scrolled": true
   },
   "outputs": [],
   "source": [
    "plot(cumsum(results$dT))"
   ]
  },
  {
   "cell_type": "markdown",
   "id": "ad5031c3",
   "metadata": {},
   "source": [
    "Now, let's do some Monte Carlo runs:"
   ]
  },
  {
   "cell_type": "code",
   "execution_count": null,
   "id": "9f5cd144",
   "metadata": {},
   "outputs": [],
   "source": [
    "results = data.frame()\n",
    "for (ii in 1:1000) {\n",
    "    ff = rnorm(1, .65, .13)\n",
    "    CC = ff / lambda # this comes from f = lambda C\n",
    "\n",
    "    dT = lambda * dF0\n",
    "    DeltaT = dT\n",
    "    for (tt in 1:100) {\n",
    "        dF = CC * dT\n",
    "        dT = lambda * dF\n",
    "        DeltaT = DeltaT + dT\n",
    "    }\n",
    "    \n",
    "    results = rbind(results, data.frame(ff, DeltaT))\n",
    "}"
   ]
  },
  {
   "cell_type": "code",
   "execution_count": null,
   "id": "bd41c64c",
   "metadata": {},
   "outputs": [],
   "source": [
    "hist(results$ff)"
   ]
  },
  {
   "cell_type": "markdown",
   "id": "9977f076",
   "metadata": {},
   "source": [
    "# Optimization\n",
    "\n",
    "The simple optimization problem is:\n",
    "$$\\text{argmax}_\\gamma f(\\vec{x}, \\vec{\\beta}, \\gamma)$$\n",
    "\n",
    "Things get complicated pretty quickly as you consider:\n",
    " - Multiple parameters\n",
    " - Functions with multiple local maxima\n",
    "\n",
    "And there are many extensions: linear programming, multi-objective optimization, optimization-under-uncertainty, robust optimization. But that's mostly for another course. We will just use simple cases and ignore the issues.\n",
    "\n",
    "R has two main optimization functions: `optim` and `optimize`.\n",
    " - `optimize` handles the simple one-dimensional case, where you can put bounds on the potential range of values.\n",
    " - `optim` is for the multi-dimensional case, and generally uses some kind of initial guess followed by gradient descent."
   ]
  },
  {
   "cell_type": "markdown",
   "id": "560bd64f",
   "metadata": {},
   "source": [
    "Very simple case: find the peak of a function."
   ]
  },
  {
   "cell_type": "code",
   "execution_count": null,
   "id": "62fcb615",
   "metadata": {},
   "outputs": [],
   "source": [
    "xx = seq(0, 6, by=.01)"
   ]
  },
  {
   "cell_type": "code",
   "execution_count": null,
   "id": "c8a6d88e",
   "metadata": {},
   "outputs": [],
   "source": [
    "yy = dnorm(xx, 2)"
   ]
  },
  {
   "cell_type": "code",
   "execution_count": null,
   "id": "b9f37cd0",
   "metadata": {},
   "outputs": [],
   "source": [
    "plot(xx, yy)"
   ]
  },
  {
   "cell_type": "code",
   "execution_count": null,
   "id": "5545da7e",
   "metadata": {
    "scrolled": false
   },
   "outputs": [],
   "source": [
    "optimize(function(guess) -dnorm(guess, 2), c(0, 6))"
   ]
  },
  {
   "cell_type": "markdown",
   "id": "9ead492d",
   "metadata": {},
   "source": [
    "A more complicated case:\n",
    "\n",
    "Simplest IAM I can construct."
   ]
  },
  {
   "cell_type": "code",
   "execution_count": null,
   "id": "7c882866",
   "metadata": {},
   "outputs": [],
   "source": [
    "totalloss = function(mit) {\n",
    "  co2cumul = cumsum(40 - mit) + 2500\n",
    "  temp = co2cumul * 2 / 4000\n",
    "  damages = 1.0038 * temp^2 / 100\n",
    "  mitcosts = (100 * (mit^3/3) / 40^2) * 1e9 / (100*1e12)\n",
    "  sum((mitcosts + damages) / (1 + 0.01^(1:length(mit))))\n",
    "}"
   ]
  },
  {
   "cell_type": "code",
   "execution_count": null,
   "id": "a418aaae",
   "metadata": {},
   "outputs": [],
   "source": [
    "soln = optim(rep(10, 2100 - 2020 + 1), totalloss, lower=0, upper=40)"
   ]
  },
  {
   "cell_type": "code",
   "execution_count": null,
   "id": "622e0359",
   "metadata": {},
   "outputs": [],
   "source": [
    "soln"
   ]
  },
  {
   "cell_type": "code",
   "execution_count": null,
   "id": "08b28c29",
   "metadata": {},
   "outputs": [],
   "source": [
    "plot(2020:2100, soln$par)"
   ]
  },
  {
   "cell_type": "markdown",
   "id": "c395d9dc",
   "metadata": {},
   "source": [
    "# Optimization under uncertainty"
   ]
  },
  {
   "cell_type": "markdown",
   "id": "9fb3d66e",
   "metadata": {},
   "source": [
    "## Simple case:\n",
    "\n",
    "We are a agricultural insurer. The losses associated with a weather shock on a crop will be $\\Delta T^2$ (so losses for increases or decreases that get worse for larger shocks). We don't know what $\\Delta T$ will be, but we know that $\\Delta T \\sim N(0, 1)$.\n",
    "\n",
    "We will have to pay for those losses. What should we set our premium at?"
   ]
  },
  {
   "cell_type": "markdown",
   "id": "ed6d12ea",
   "metadata": {},
   "source": [
    "The analytical solution:\n",
    "\n",
    "$$E[\\Delta T^2] = Var(\\Delta T) + E[\\Delta T]^2 = 1$$"
   ]
  },
  {
   "cell_type": "markdown",
   "id": "ca35cabc",
   "metadata": {},
   "source": [
    "The wrong way:\n",
    "\n",
    "Let's try run `optimize` containing a Monte Carlo to estimate the expected value!"
   ]
  },
  {
   "cell_type": "code",
   "execution_count": null,
   "id": "f641277f",
   "metadata": {},
   "outputs": [],
   "source": [
    "optimize(function(premium) {\n",
    "    abs(premium - mean(rnorm(100, 0, 1)^2))\n",
    "}, c(0, 6))"
   ]
  },
  {
   "cell_type": "markdown",
   "id": "5bdce261",
   "metadata": {},
   "source": [
    "In this case, we could just calculate the mean of the distribution beforehand though..."
   ]
  },
  {
   "cell_type": "code",
   "execution_count": null,
   "id": "ea6ce261",
   "metadata": {},
   "outputs": [],
   "source": [
    "premium = mean(rnorm(100000, 0, 1)^2)"
   ]
  },
  {
   "cell_type": "markdown",
   "id": "f2fe78d1",
   "metadata": {},
   "source": [
    "Make this a little more complicated. We want premium to affect the result..."
   ]
  },
  {
   "cell_type": "code",
   "execution_count": null,
   "id": "64c15401",
   "metadata": {},
   "outputs": [],
   "source": [
    "privatedraws = rnorm(1000, 0, sqrt(2)/2)\n",
    "maxpremium = privatedraws^2 + .5\n",
    "buyins = premium < maxpremium\n",
    "sum((premium - (privatedraws + rnorm(1000, 0, sqrt(2)/2)))[buyins])"
   ]
  },
  {
   "cell_type": "code",
   "execution_count": null,
   "id": "d14a22c7",
   "metadata": {},
   "outputs": [],
   "source": [
    "optimize(function(premium) {\n",
    "    privatedraws = rnorm(1000, 0, sqrt(2)/2)\n",
    "    maxpremium = privatedraws^2 + .5\n",
    "    buyins = premium < maxpremium\n",
    "    sum((premium - (privatedraws + rnorm(1000, 0, sqrt(2)/2)))[buyins])\n",
    "}, c(0, 6))"
   ]
  },
  {
   "cell_type": "markdown",
   "id": "85f08ef6",
   "metadata": {},
   "source": [
    "Solution: hold distributions constant"
   ]
  },
  {
   "cell_type": "code",
   "execution_count": null,
   "id": "2acbb45c",
   "metadata": {},
   "outputs": [],
   "source": [
    "privatedraws = rnorm(1000000, 0, sqrt(2)/2)\n",
    "otherdraws = rnorm(1000000, 0, sqrt(2)/2)"
   ]
  },
  {
   "cell_type": "code",
   "execution_count": null,
   "id": "e736b15d",
   "metadata": {},
   "outputs": [],
   "source": [
    "optimize(function(premium) {\n",
    "    maxpremium = privatedraws^2 + .5\n",
    "    buyins = premium < maxpremium\n",
    "    sum((premium - (privatedraws + otherdraws))[buyins])\n",
    "}, c(0, 6))"
   ]
  }
 ],
 "metadata": {
  "kernelspec": {
   "display_name": "R",
   "language": "R",
   "name": "ir"
  },
  "language_info": {
   "codemirror_mode": "r",
   "file_extension": ".r",
   "mimetype": "text/x-r-source",
   "name": "R",
   "pygments_lexer": "r",
   "version": "4.1.1"
  }
 },
 "nbformat": 4,
 "nbformat_minor": 5
}
