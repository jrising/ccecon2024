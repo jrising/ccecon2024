{
 "cells": [
  {
   "cell_type": "markdown",
   "id": "0e1c28a6",
   "metadata": {},
   "source": [
    "## An equation from Lab 3"
   ]
  },
  {
   "cell_type": "markdown",
   "id": "e6fb4778",
   "metadata": {},
   "source": [
    "**How would you calculate isoelastic utility, if you know consumption?**\n",
    "\n",
    "Version 1: $$u(c) = \\frac{c^{1 - \\eta}}{1 - \\eta}$$\n",
    "\n",
    "Let $$\\eta = 1.45, c = 10000$$"
   ]
  },
  {
   "cell_type": "code",
   "execution_count": null,
   "id": "960d7b54",
   "metadata": {},
   "outputs": [],
   "source": [
    "cc = seq(1000, 100000, by=1000)"
   ]
  },
  {
   "cell_type": "code",
   "execution_count": null,
   "id": "0c75e759",
   "metadata": {},
   "outputs": [],
   "source": [
    "plot(cc, uu)"
   ]
  },
  {
   "cell_type": "code",
   "execution_count": null,
   "id": "98517da7",
   "metadata": {
    "scrolled": true
   },
   "outputs": [],
   "source": [
    "(uu1 + uu2) / 2"
   ]
  },
  {
   "cell_type": "markdown",
   "id": "69ea42c7",
   "metadata": {},
   "source": [
    "The inverse of this equation is:\n",
    "$$c = ((1 - \\eta) u)^{1 / (1 - \\eta)}$$"
   ]
  },
  {
   "cell_type": "markdown",
   "id": "5db999c7",
   "metadata": {},
   "source": [
    "## The if-then-else control structure"
   ]
  },
  {
   "cell_type": "code",
   "execution_count": null,
   "id": "fb10583f",
   "metadata": {
    "scrolled": false
   },
   "outputs": [],
   "source": [
    "aa = 3"
   ]
  },
  {
   "cell_type": "code",
   "execution_count": null,
   "id": "a90d1a20",
   "metadata": {
    "scrolled": true
   },
   "outputs": [],
   "source": [
    "if (aa > 2) {\n",
    "    print(\"OK!\")\n",
    "} else {\n",
    "    print(\"No way.\")\n",
    "}"
   ]
  },
  {
   "cell_type": "code",
   "execution_count": null,
   "id": "dc4e8d09",
   "metadata": {},
   "outputs": [],
   "source": [
    "bb = 1:10"
   ]
  },
  {
   "cell_type": "code",
   "execution_count": null,
   "id": "3c8d51ec",
   "metadata": {},
   "outputs": [],
   "source": [
    "ifelse(bb > 2, \"OK!\", \"No way.\")"
   ]
  },
  {
   "cell_type": "markdown",
   "id": "1b26611c",
   "metadata": {},
   "source": [
    "Version 2 of our equation: $$u(c) = \\begin{cases} \\frac{c^{1 - \\eta}-1}{1 - \\eta} & \\text{if $\\eta \\ne 1$} \\\\ \\ln(c) & \\text{if $\\eta = 1$} \\end{cases} $$"
   ]
  },
  {
   "cell_type": "code",
   "execution_count": null,
   "id": "260c1646",
   "metadata": {},
   "outputs": [],
   "source": [
    "eta = seq(1, 2, by=1/100)"
   ]
  },
  {
   "cell_type": "code",
   "execution_count": null,
   "id": "9204cf23",
   "metadata": {},
   "outputs": [],
   "source": [
    "uu = ifelse(...)"
   ]
  },
  {
   "cell_type": "code",
   "execution_count": null,
   "id": "0115874f",
   "metadata": {},
   "outputs": [],
   "source": [
    "plot(eta, uu)"
   ]
  },
  {
   "cell_type": "markdown",
   "id": "530b4d24",
   "metadata": {},
   "source": [
    "**Solow Growth Model**\n",
    "\n",
    "Let's implement a simple growth model, as it is done in DICE, on of the core integrated assessment models.\n",
    "\n",
    "Production depends upon productivity, capital, and labor:\n",
    "$$Y_t = A_t K_t^\\gamma L_t^{1 - \\gamma}$$\n",
    "\n",
    "Initial total factor productivity is 5.115, capital is \\\\$223,000 billion, and population is 7,403.\n",
    "Capital share ($\\gamma$ is 0.3)."
   ]
  },
  {
   "cell_type": "markdown",
   "id": "12e63806",
   "metadata": {},
   "source": [
    "Capital growth occurs because of savings and it decreases due to depreciation.\n",
    "\n",
    "$$\\frac{d K_t}{dt} = \\delta K_t + s Y_t$$\n",
    "\n",
    "Let $\\delta = 0.1$ and $s = 0.2596$."
   ]
  },
  {
   "cell_type": "markdown",
   "id": "f95dd904",
   "metadata": {},
   "source": [
    "## The for-loop control structure"
   ]
  },
  {
   "cell_type": "code",
   "execution_count": null,
   "id": "b0f8b4f8",
   "metadata": {},
   "outputs": [],
   "source": [
    "xx = 1:4\n",
    "yy = rep(0, 4)\n",
    "for (ii in 1:length(xx)) {\n",
    "    yy[ii] = xx[ii]^2\n",
    "}"
   ]
  },
  {
   "cell_type": "code",
   "execution_count": null,
   "id": "e350b1e5",
   "metadata": {
    "scrolled": true
   },
   "outputs": [],
   "source": [
    "yy"
   ]
  },
  {
   "cell_type": "code",
   "execution_count": null,
   "id": "1f4571a5",
   "metadata": {
    "scrolled": true
   },
   "outputs": [],
   "source": [
    "for (x in xx) {\n",
    "    if (x > 2)\n",
    "        print(x)\n",
    "}"
   ]
  },
  {
   "cell_type": "markdown",
   "id": "76cd1126",
   "metadata": {},
   "source": [
    "**What happens if we don't have any further change in productivity or population?**"
   ]
  }
 ],
 "metadata": {
  "kernelspec": {
   "display_name": "R",
   "language": "R",
   "name": "ir"
  },
  "language_info": {
   "codemirror_mode": "r",
   "file_extension": ".r",
   "mimetype": "text/x-r-source",
   "name": "R",
   "pygments_lexer": "r",
   "version": "4.1.1"
  }
 },
 "nbformat": 4,
 "nbformat_minor": 5
}
