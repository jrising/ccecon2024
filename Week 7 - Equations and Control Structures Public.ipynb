{
 "cells": [
  {
   "cell_type": "code",
   "execution_count": 48,
   "id": "df0d8c4b",
   "metadata": {},
   "outputs": [],
   "source": [
    "budget = 61"
   ]
  },
  {
   "cell_type": "code",
   "execution_count": 49,
   "id": "3ea19fbb",
   "metadata": {},
   "outputs": [],
   "source": [
    "footprints = c(16.8, 14, 9.4, 9.7, 13.1, 15.1, 12.7, 36.4, 18.2)"
   ]
  },
  {
   "cell_type": "code",
   "execution_count": 50,
   "id": "3e00c61c",
   "metadata": {},
   "outputs": [
    {
     "data": {
      "text/html": [
       "<style>\n",
       ".list-inline {list-style: none; margin:0; padding: 0}\n",
       ".list-inline>li {display: inline-block}\n",
       ".list-inline>li:not(:last-child)::after {content: \"\\00b7\"; padding: 0 .5ex}\n",
       "</style>\n",
       "<ol class=list-inline><li>3.63095238095238</li><li>4.35714285714286</li><li>6.48936170212766</li><li>6.28865979381443</li><li>4.65648854961832</li><li>4.03973509933775</li><li>4.80314960629921</li><li>1.67582417582418</li><li>3.35164835164835</li></ol>\n"
      ],
      "text/latex": [
       "\\begin{enumerate*}\n",
       "\\item 3.63095238095238\n",
       "\\item 4.35714285714286\n",
       "\\item 6.48936170212766\n",
       "\\item 6.28865979381443\n",
       "\\item 4.65648854961832\n",
       "\\item 4.03973509933775\n",
       "\\item 4.80314960629921\n",
       "\\item 1.67582417582418\n",
       "\\item 3.35164835164835\n",
       "\\end{enumerate*}\n"
      ],
      "text/markdown": [
       "1. 3.63095238095238\n",
       "2. 4.35714285714286\n",
       "3. 6.48936170212766\n",
       "4. 6.28865979381443\n",
       "5. 4.65648854961832\n",
       "6. 4.03973509933775\n",
       "7. 4.80314960629921\n",
       "8. 1.67582417582418\n",
       "9. 3.35164835164835\n",
       "\n",
       "\n"
      ],
      "text/plain": [
       "[1] 3.630952 4.357143 6.489362 6.288660 4.656489 4.039735 4.803150 1.675824\n",
       "[9] 3.351648"
      ]
     },
     "metadata": {},
     "output_type": "display_data"
    }
   ],
   "source": [
    "budget / footprints"
   ]
  },
  {
   "cell_type": "markdown",
   "id": "0e1c28a6",
   "metadata": {},
   "source": [
    "## An equation from Lab 3"
   ]
  },
  {
   "cell_type": "markdown",
   "id": "e6fb4778",
   "metadata": {},
   "source": [
    "**How would you calculate isoelastic utility, if you know consumption?**\n",
    "\n",
    "Version 1: $$u(c) = \\frac{c^{1 - \\eta}}{1 - \\eta}$$\n",
    "\n",
    "Let $$\\eta = 1.45, c = 10000$$"
   ]
  },
  {
   "cell_type": "code",
   "execution_count": 1,
   "id": "19560e21",
   "metadata": {},
   "outputs": [],
   "source": [
    "eta = 1.45\n",
    "c = 10000"
   ]
  },
  {
   "cell_type": "code",
   "execution_count": 6,
   "id": "00ed9218",
   "metadata": {},
   "outputs": [
    {
     "data": {
      "text/html": [
       "-0.0352198487213581"
      ],
      "text/latex": [
       "-0.0352198487213581"
      ],
      "text/markdown": [
       "-0.0352198487213581"
      ],
      "text/plain": [
       "[1] -0.03521985"
      ]
     },
     "metadata": {},
     "output_type": "display_data"
    }
   ],
   "source": [
    "(c^(1 - eta)) / (1 - eta)"
   ]
  },
  {
   "cell_type": "code",
   "execution_count": 7,
   "id": "0e3ee46f",
   "metadata": {},
   "outputs": [],
   "source": [
    "c = 20000"
   ]
  },
  {
   "cell_type": "code",
   "execution_count": 8,
   "id": "a576dfdd",
   "metadata": {},
   "outputs": [
    {
     "data": {
      "text/html": [
       "-0.0257824383631546"
      ],
      "text/latex": [
       "-0.0257824383631546"
      ],
      "text/markdown": [
       "-0.0257824383631546"
      ],
      "text/plain": [
       "[1] -0.02578244"
      ]
     },
     "metadata": {},
     "output_type": "display_data"
    }
   ],
   "source": [
    "(c^(1 - eta)) / (1 - eta)"
   ]
  },
  {
   "cell_type": "code",
   "execution_count": 9,
   "id": "960d7b54",
   "metadata": {},
   "outputs": [],
   "source": [
    "cc = seq(1000, 100000, by=1000)"
   ]
  },
  {
   "cell_type": "code",
   "execution_count": 10,
   "id": "62475b07",
   "metadata": {},
   "outputs": [
    {
     "data": {
      "text/html": [
       "<style>\n",
       ".list-inline {list-style: none; margin:0; padding: 0}\n",
       ".list-inline>li {display: inline-block}\n",
       ".list-inline>li:not(:last-child)::after {content: \"\\00b7\"; padding: 0 .5ex}\n",
       "</style>\n",
       "<ol class=list-inline><li>1000</li><li>2000</li><li>3000</li><li>4000</li><li>5000</li><li>6000</li><li>7000</li><li>8000</li><li>9000</li><li>10000</li><li>11000</li><li>12000</li><li>13000</li><li>14000</li><li>15000</li><li>16000</li><li>17000</li><li>18000</li><li>19000</li><li>20000</li><li>21000</li><li>22000</li><li>23000</li><li>24000</li><li>25000</li><li>26000</li><li>27000</li><li>28000</li><li>29000</li><li>30000</li><li>31000</li><li>32000</li><li>33000</li><li>34000</li><li>35000</li><li>36000</li><li>37000</li><li>38000</li><li>39000</li><li>40000</li><li>41000</li><li>42000</li><li>43000</li><li>44000</li><li>45000</li><li>46000</li><li>47000</li><li>48000</li><li>49000</li><li>50000</li><li>51000</li><li>52000</li><li>53000</li><li>54000</li><li>55000</li><li>56000</li><li>57000</li><li>58000</li><li>59000</li><li>60000</li><li>61000</li><li>62000</li><li>63000</li><li>64000</li><li>65000</li><li>66000</li><li>67000</li><li>68000</li><li>69000</li><li>70000</li><li>71000</li><li>72000</li><li>73000</li><li>74000</li><li>75000</li><li>76000</li><li>77000</li><li>78000</li><li>79000</li><li>80000</li><li>81000</li><li>82000</li><li>83000</li><li>84000</li><li>85000</li><li>86000</li><li>87000</li><li>88000</li><li>89000</li><li>90000</li><li>91000</li><li>92000</li><li>93000</li><li>94000</li><li>95000</li><li>96000</li><li>97000</li><li>98000</li><li>99000</li><li>1e+05</li></ol>\n"
      ],
      "text/latex": [
       "\\begin{enumerate*}\n",
       "\\item 1000\n",
       "\\item 2000\n",
       "\\item 3000\n",
       "\\item 4000\n",
       "\\item 5000\n",
       "\\item 6000\n",
       "\\item 7000\n",
       "\\item 8000\n",
       "\\item 9000\n",
       "\\item 10000\n",
       "\\item 11000\n",
       "\\item 12000\n",
       "\\item 13000\n",
       "\\item 14000\n",
       "\\item 15000\n",
       "\\item 16000\n",
       "\\item 17000\n",
       "\\item 18000\n",
       "\\item 19000\n",
       "\\item 20000\n",
       "\\item 21000\n",
       "\\item 22000\n",
       "\\item 23000\n",
       "\\item 24000\n",
       "\\item 25000\n",
       "\\item 26000\n",
       "\\item 27000\n",
       "\\item 28000\n",
       "\\item 29000\n",
       "\\item 30000\n",
       "\\item 31000\n",
       "\\item 32000\n",
       "\\item 33000\n",
       "\\item 34000\n",
       "\\item 35000\n",
       "\\item 36000\n",
       "\\item 37000\n",
       "\\item 38000\n",
       "\\item 39000\n",
       "\\item 40000\n",
       "\\item 41000\n",
       "\\item 42000\n",
       "\\item 43000\n",
       "\\item 44000\n",
       "\\item 45000\n",
       "\\item 46000\n",
       "\\item 47000\n",
       "\\item 48000\n",
       "\\item 49000\n",
       "\\item 50000\n",
       "\\item 51000\n",
       "\\item 52000\n",
       "\\item 53000\n",
       "\\item 54000\n",
       "\\item 55000\n",
       "\\item 56000\n",
       "\\item 57000\n",
       "\\item 58000\n",
       "\\item 59000\n",
       "\\item 60000\n",
       "\\item 61000\n",
       "\\item 62000\n",
       "\\item 63000\n",
       "\\item 64000\n",
       "\\item 65000\n",
       "\\item 66000\n",
       "\\item 67000\n",
       "\\item 68000\n",
       "\\item 69000\n",
       "\\item 70000\n",
       "\\item 71000\n",
       "\\item 72000\n",
       "\\item 73000\n",
       "\\item 74000\n",
       "\\item 75000\n",
       "\\item 76000\n",
       "\\item 77000\n",
       "\\item 78000\n",
       "\\item 79000\n",
       "\\item 80000\n",
       "\\item 81000\n",
       "\\item 82000\n",
       "\\item 83000\n",
       "\\item 84000\n",
       "\\item 85000\n",
       "\\item 86000\n",
       "\\item 87000\n",
       "\\item 88000\n",
       "\\item 89000\n",
       "\\item 90000\n",
       "\\item 91000\n",
       "\\item 92000\n",
       "\\item 93000\n",
       "\\item 94000\n",
       "\\item 95000\n",
       "\\item 96000\n",
       "\\item 97000\n",
       "\\item 98000\n",
       "\\item 99000\n",
       "\\item 1e+05\n",
       "\\end{enumerate*}\n"
      ],
      "text/markdown": [
       "1. 1000\n",
       "2. 2000\n",
       "3. 3000\n",
       "4. 4000\n",
       "5. 5000\n",
       "6. 6000\n",
       "7. 7000\n",
       "8. 8000\n",
       "9. 9000\n",
       "10. 10000\n",
       "11. 11000\n",
       "12. 12000\n",
       "13. 13000\n",
       "14. 14000\n",
       "15. 15000\n",
       "16. 16000\n",
       "17. 17000\n",
       "18. 18000\n",
       "19. 19000\n",
       "20. 20000\n",
       "21. 21000\n",
       "22. 22000\n",
       "23. 23000\n",
       "24. 24000\n",
       "25. 25000\n",
       "26. 26000\n",
       "27. 27000\n",
       "28. 28000\n",
       "29. 29000\n",
       "30. 30000\n",
       "31. 31000\n",
       "32. 32000\n",
       "33. 33000\n",
       "34. 34000\n",
       "35. 35000\n",
       "36. 36000\n",
       "37. 37000\n",
       "38. 38000\n",
       "39. 39000\n",
       "40. 40000\n",
       "41. 41000\n",
       "42. 42000\n",
       "43. 43000\n",
       "44. 44000\n",
       "45. 45000\n",
       "46. 46000\n",
       "47. 47000\n",
       "48. 48000\n",
       "49. 49000\n",
       "50. 50000\n",
       "51. 51000\n",
       "52. 52000\n",
       "53. 53000\n",
       "54. 54000\n",
       "55. 55000\n",
       "56. 56000\n",
       "57. 57000\n",
       "58. 58000\n",
       "59. 59000\n",
       "60. 60000\n",
       "61. 61000\n",
       "62. 62000\n",
       "63. 63000\n",
       "64. 64000\n",
       "65. 65000\n",
       "66. 66000\n",
       "67. 67000\n",
       "68. 68000\n",
       "69. 69000\n",
       "70. 70000\n",
       "71. 71000\n",
       "72. 72000\n",
       "73. 73000\n",
       "74. 74000\n",
       "75. 75000\n",
       "76. 76000\n",
       "77. 77000\n",
       "78. 78000\n",
       "79. 79000\n",
       "80. 80000\n",
       "81. 81000\n",
       "82. 82000\n",
       "83. 83000\n",
       "84. 84000\n",
       "85. 85000\n",
       "86. 86000\n",
       "87. 87000\n",
       "88. 88000\n",
       "89. 89000\n",
       "90. 90000\n",
       "91. 91000\n",
       "92. 92000\n",
       "93. 93000\n",
       "94. 94000\n",
       "95. 95000\n",
       "96. 96000\n",
       "97. 97000\n",
       "98. 98000\n",
       "99. 99000\n",
       "100. 1e+05\n",
       "\n",
       "\n"
      ],
      "text/plain": [
       "  [1]   1000   2000   3000   4000   5000   6000   7000   8000   9000  10000\n",
       " [11]  11000  12000  13000  14000  15000  16000  17000  18000  19000  20000\n",
       " [21]  21000  22000  23000  24000  25000  26000  27000  28000  29000  30000\n",
       " [31]  31000  32000  33000  34000  35000  36000  37000  38000  39000  40000\n",
       " [41]  41000  42000  43000  44000  45000  46000  47000  48000  49000  50000\n",
       " [51]  51000  52000  53000  54000  55000  56000  57000  58000  59000  60000\n",
       " [61]  61000  62000  63000  64000  65000  66000  67000  68000  69000  70000\n",
       " [71]  71000  72000  73000  74000  75000  76000  77000  78000  79000  80000\n",
       " [81]  81000  82000  83000  84000  85000  86000  87000  88000  89000  90000\n",
       " [91]  91000  92000  93000  94000  95000  96000  97000  98000  99000 100000"
      ]
     },
     "metadata": {},
     "output_type": "display_data"
    }
   ],
   "source": [
    "cc"
   ]
  },
  {
   "cell_type": "code",
   "execution_count": 11,
   "id": "44bd98f7",
   "metadata": {},
   "outputs": [],
   "source": [
    "uu = (cc^(1 - eta)) / (1 - eta)"
   ]
  },
  {
   "cell_type": "code",
   "execution_count": 12,
   "id": "0c75e759",
   "metadata": {},
   "outputs": [
    {
     "data": {
      "image/png": "[encoded data removed]",
      "text/plain": [
       "plot without title"
      ]
     },
     "metadata": {
      "image/png": {
       "height": 420,
       "width": 420
      }
     },
     "output_type": "display_data"
    }
   ],
   "source": [
    "plot(cc, uu)"
   ]
  },
  {
   "cell_type": "code",
   "execution_count": 13,
   "id": "f7bb4b0e",
   "metadata": {},
   "outputs": [],
   "source": [
    "c1 = 5000\n",
    "c2 = 20000"
   ]
  },
  {
   "cell_type": "code",
   "execution_count": 14,
   "id": "1357a1a4",
   "metadata": {},
   "outputs": [
    {
     "data": {
      "text/html": [
       "12500"
      ],
      "text/latex": [
       "12500"
      ],
      "text/markdown": [
       "12500"
      ],
      "text/plain": [
       "[1] 12500"
      ]
     },
     "metadata": {},
     "output_type": "display_data"
    }
   ],
   "source": [
    "(c1 + c2) / 2"
   ]
  },
  {
   "cell_type": "code",
   "execution_count": 15,
   "id": "d243235c",
   "metadata": {},
   "outputs": [],
   "source": [
    "u1 = (c1^(1 - eta)) / (1 - eta)"
   ]
  },
  {
   "cell_type": "code",
   "execution_count": 17,
   "id": "91585ba2",
   "metadata": {},
   "outputs": [
    {
     "data": {
      "text/html": [
       "-0.048111731190175"
      ],
      "text/latex": [
       "-0.048111731190175"
      ],
      "text/markdown": [
       "-0.048111731190175"
      ],
      "text/plain": [
       "[1] -0.04811173"
      ]
     },
     "metadata": {},
     "output_type": "display_data"
    }
   ],
   "source": [
    "u1"
   ]
  },
  {
   "cell_type": "code",
   "execution_count": 16,
   "id": "ddf88c26",
   "metadata": {},
   "outputs": [],
   "source": [
    "u2 = (c2^(1 - eta)) / (1 - eta)"
   ]
  },
  {
   "cell_type": "code",
   "execution_count": 18,
   "id": "b479d3fd",
   "metadata": {},
   "outputs": [
    {
     "data": {
      "text/html": [
       "-0.0257824383631546"
      ],
      "text/latex": [
       "-0.0257824383631546"
      ],
      "text/markdown": [
       "-0.0257824383631546"
      ],
      "text/plain": [
       "[1] -0.02578244"
      ]
     },
     "metadata": {},
     "output_type": "display_data"
    }
   ],
   "source": [
    "u2"
   ]
  },
  {
   "cell_type": "code",
   "execution_count": 20,
   "id": "98517da7",
   "metadata": {
    "scrolled": true
   },
   "outputs": [
    {
     "data": {
      "text/html": [
       "-0.0369470847766648"
      ],
      "text/latex": [
       "-0.0369470847766648"
      ],
      "text/markdown": [
       "-0.0369470847766648"
      ],
      "text/plain": [
       "[1] -0.03694708"
      ]
     },
     "metadata": {},
     "output_type": "display_data"
    }
   ],
   "source": [
    "(u1 + u2) / 2"
   ]
  },
  {
   "cell_type": "markdown",
   "id": "69ea42c7",
   "metadata": {},
   "source": [
    "The inverse of this equation is:\n",
    "$$c = ((1 - \\eta) u)^{1 / (1 - \\eta)}$$"
   ]
  },
  {
   "cell_type": "code",
   "execution_count": 21,
   "id": "ac879d18",
   "metadata": {},
   "outputs": [
    {
     "data": {
      "text/html": [
       "8990.71063754752"
      ],
      "text/latex": [
       "8990.71063754752"
      ],
      "text/markdown": [
       "8990.71063754752"
      ],
      "text/plain": [
       "[1] 8990.711"
      ]
     },
     "metadata": {},
     "output_type": "display_data"
    }
   ],
   "source": [
    "((1 - eta) * (u1 + u2) / 2)^(1 / (1 - eta))"
   ]
  },
  {
   "cell_type": "markdown",
   "id": "5db999c7",
   "metadata": {},
   "source": [
    "## The if-then-else control structure"
   ]
  },
  {
   "cell_type": "code",
   "execution_count": 22,
   "id": "d20ca367",
   "metadata": {},
   "outputs": [
    {
     "ename": "ERROR",
     "evalue": "Error in eval(expr, envir, enclos): object 'CONDITION' not found\n",
     "output_type": "error",
     "traceback": [
      "Error in eval(expr, envir, enclos): object 'CONDITION' not found\nTraceback:\n"
     ]
    }
   ],
   "source": [
    "if (CONDITION) {\n",
    "    DO IF TRUE\n",
    "} else {\n",
    "    DO IF FALSE\n",
    "}"
   ]
  },
  {
   "cell_type": "code",
   "execution_count": 23,
   "id": "fb10583f",
   "metadata": {
    "scrolled": false
   },
   "outputs": [],
   "source": [
    "aa = 3"
   ]
  },
  {
   "cell_type": "code",
   "execution_count": 24,
   "id": "a90d1a20",
   "metadata": {
    "scrolled": true
   },
   "outputs": [
    {
     "name": "stdout",
     "output_type": "stream",
     "text": [
      "[1] \"OK!\"\n"
     ]
    }
   ],
   "source": [
    "if (aa > 2) {\n",
    "    print(\"OK!\")\n",
    "} else {\n",
    "    print(\"No way.\")\n",
    "}"
   ]
  },
  {
   "cell_type": "code",
   "execution_count": 25,
   "id": "dc4e8d09",
   "metadata": {},
   "outputs": [],
   "source": [
    "bb = 1:10"
   ]
  },
  {
   "cell_type": "code",
   "execution_count": null,
   "id": "d0a7d6e7",
   "metadata": {},
   "outputs": [],
   "source": [
    "ifelse(CONDITION, IFTRUE, IFFALSE)"
   ]
  },
  {
   "cell_type": "code",
   "execution_count": 26,
   "id": "3c8d51ec",
   "metadata": {},
   "outputs": [
    {
     "data": {
      "text/html": [
       "<style>\n",
       ".list-inline {list-style: none; margin:0; padding: 0}\n",
       ".list-inline>li {display: inline-block}\n",
       ".list-inline>li:not(:last-child)::after {content: \"\\00b7\"; padding: 0 .5ex}\n",
       "</style>\n",
       "<ol class=list-inline><li>'No way.'</li><li>'No way.'</li><li>'OK!'</li><li>'OK!'</li><li>'OK!'</li><li>'OK!'</li><li>'OK!'</li><li>'OK!'</li><li>'OK!'</li><li>'OK!'</li></ol>\n"
      ],
      "text/latex": [
       "\\begin{enumerate*}\n",
       "\\item 'No way.'\n",
       "\\item 'No way.'\n",
       "\\item 'OK!'\n",
       "\\item 'OK!'\n",
       "\\item 'OK!'\n",
       "\\item 'OK!'\n",
       "\\item 'OK!'\n",
       "\\item 'OK!'\n",
       "\\item 'OK!'\n",
       "\\item 'OK!'\n",
       "\\end{enumerate*}\n"
      ],
      "text/markdown": [
       "1. 'No way.'\n",
       "2. 'No way.'\n",
       "3. 'OK!'\n",
       "4. 'OK!'\n",
       "5. 'OK!'\n",
       "6. 'OK!'\n",
       "7. 'OK!'\n",
       "8. 'OK!'\n",
       "9. 'OK!'\n",
       "10. 'OK!'\n",
       "\n",
       "\n"
      ],
      "text/plain": [
       " [1] \"No way.\" \"No way.\" \"OK!\"     \"OK!\"     \"OK!\"     \"OK!\"     \"OK!\"    \n",
       " [8] \"OK!\"     \"OK!\"     \"OK!\"    "
      ]
     },
     "metadata": {},
     "output_type": "display_data"
    }
   ],
   "source": [
    "ifelse(bb > 2, \"OK!\", \"No way.\")"
   ]
  },
  {
   "cell_type": "markdown",
   "id": "1b26611c",
   "metadata": {},
   "source": [
    "Version 2 of our equation: $$u(c) = \\begin{cases} \\frac{c^{1 - \\eta}-1}{1 - \\eta} & \\text{if $\\eta \\ne 1$} \\\\ \\ln(c) & \\text{if $\\eta = 1$} \\end{cases} $$"
   ]
  },
  {
   "cell_type": "code",
   "execution_count": 32,
   "id": "82c95954",
   "metadata": {},
   "outputs": [
    {
     "name": "stderr",
     "output_type": "stream",
     "text": [
      "Warning message in if (eta == 1) {:\n",
      "“the condition has length > 1 and only the first element will be used”\n"
     ]
    },
    {
     "data": {
      "text/html": [
       "9.90348755253613"
      ],
      "text/latex": [
       "9.90348755253613"
      ],
      "text/markdown": [
       "9.90348755253613"
      ],
      "text/plain": [
       "[1] 9.903488"
      ]
     },
     "metadata": {},
     "output_type": "display_data"
    }
   ],
   "source": [
    "if (eta == 1) {\n",
    "    log(c)\n",
    "} else {\n",
    "    (c^(1 - eta) - 1) / (1 - eta)\n",
    "}"
   ]
  },
  {
   "cell_type": "code",
   "execution_count": 28,
   "id": "260c1646",
   "metadata": {},
   "outputs": [],
   "source": [
    "eta = seq(1, 2, by=1/100)"
   ]
  },
  {
   "cell_type": "code",
   "execution_count": 29,
   "id": "8974534d",
   "metadata": {},
   "outputs": [
    {
     "data": {
      "text/html": [
       "20000"
      ],
      "text/latex": [
       "20000"
      ],
      "text/markdown": [
       "20000"
      ],
      "text/plain": [
       "[1] 20000"
      ]
     },
     "metadata": {},
     "output_type": "display_data"
    }
   ],
   "source": [
    "c"
   ]
  },
  {
   "cell_type": "code",
   "execution_count": 33,
   "id": "9204cf23",
   "metadata": {},
   "outputs": [],
   "source": [
    "uu = ifelse(eta == 1, log(c), (c^(1 - eta) - 1) / (1 - eta))"
   ]
  },
  {
   "cell_type": "code",
   "execution_count": 34,
   "id": "0115874f",
   "metadata": {},
   "outputs": [
    {
     "data": {
      "image/png": "[encoded data removed]",
      "text/plain": [
       "plot without title"
      ]
     },
     "metadata": {
      "image/png": {
       "height": 420,
       "width": 420
      }
     },
     "output_type": "display_data"
    }
   ],
   "source": [
    "plot(eta, uu)"
   ]
  },
  {
   "cell_type": "markdown",
   "id": "530b4d24",
   "metadata": {},
   "source": [
    "**Solow Growth Model**\n",
    "\n",
    "Let's implement a simple growth model, as it is done in DICE, on of the core integrated assessment models.\n",
    "\n",
    "Production depends upon productivity, capital, and labor:\n",
    "$$Y_t = A_t K_t^\\gamma L_t^{1 - \\gamma}$$\n",
    "\n",
    "Initial total factor productivity is 5.115, capital is \\\\$223,000 billion, and population is 7,403.\n",
    "Capital share ($\\gamma$ is 0.3)."
   ]
  },
  {
   "cell_type": "markdown",
   "id": "12e63806",
   "metadata": {},
   "source": [
    "Capital growth occurs because of savings and it decreases due to depreciation.\n",
    "\n",
    "$$\\frac{d K_t}{dt} = \\delta K_t + s Y_t$$\n",
    "\n",
    "Let $\\delta = 0.1$ and $s = 0.2596$."
   ]
  },
  {
   "cell_type": "markdown",
   "id": "f95dd904",
   "metadata": {},
   "source": [
    "## The for-loop control structure"
   ]
  },
  {
   "cell_type": "code",
   "execution_count": null,
   "id": "a68479e0",
   "metadata": {},
   "outputs": [],
   "source": [
    "for (VAR in VECTOR) {\n",
    "    DO THING\n",
    "}"
   ]
  },
  {
   "cell_type": "code",
   "execution_count": 35,
   "id": "b0f8b4f8",
   "metadata": {},
   "outputs": [],
   "source": [
    "xx = 1:4\n",
    "yy = rep(0, 4)\n",
    "for (ii in 1:length(xx)) {\n",
    "    yy[ii] = xx[ii]^2\n",
    "}"
   ]
  },
  {
   "cell_type": "code",
   "execution_count": 36,
   "id": "e350b1e5",
   "metadata": {
    "scrolled": true
   },
   "outputs": [
    {
     "data": {
      "text/html": [
       "<style>\n",
       ".list-inline {list-style: none; margin:0; padding: 0}\n",
       ".list-inline>li {display: inline-block}\n",
       ".list-inline>li:not(:last-child)::after {content: \"\\00b7\"; padding: 0 .5ex}\n",
       "</style>\n",
       "<ol class=list-inline><li>1</li><li>4</li><li>9</li><li>16</li></ol>\n"
      ],
      "text/latex": [
       "\\begin{enumerate*}\n",
       "\\item 1\n",
       "\\item 4\n",
       "\\item 9\n",
       "\\item 16\n",
       "\\end{enumerate*}\n"
      ],
      "text/markdown": [
       "1. 1\n",
       "2. 4\n",
       "3. 9\n",
       "4. 16\n",
       "\n",
       "\n"
      ],
      "text/plain": [
       "[1]  1  4  9 16"
      ]
     },
     "metadata": {},
     "output_type": "display_data"
    }
   ],
   "source": [
    "yy"
   ]
  },
  {
   "cell_type": "code",
   "execution_count": null,
   "id": "1f4571a5",
   "metadata": {
    "scrolled": true
   },
   "outputs": [],
   "source": [
    "for (x in xx) {\n",
    "    if (x > 2)\n",
    "        print(x)\n",
    "}"
   ]
  },
  {
   "cell_type": "markdown",
   "id": "76cd1126",
   "metadata": {},
   "source": [
    "**What happens if we don't have any further change in productivity or population?**"
   ]
  }
 ],
 "metadata": {
  "kernelspec": {
   "display_name": "R",
   "language": "R",
   "name": "ir"
  },
  "language_info": {
   "codemirror_mode": "r",
   "file_extension": ".r",
   "mimetype": "text/x-r-source",
   "name": "R",
   "pygments_lexer": "r",
   "version": "4.1.1"
  }
 },
 "nbformat": 4,
 "nbformat_minor": 5
}
